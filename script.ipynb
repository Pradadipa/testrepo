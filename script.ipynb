{
 "cells": [
  {
   "cell_type": "code",
   "execution_count": 30,
   "metadata": {},
   "outputs": [],
   "source": [
    "import pandas as pd\n",
    "import numpy as np\n",
    "import matplotlib.pyplot as plt\n",
    "import seaborn as sns\n",
    "from wordcloud import WordCloud\n"
   ]
  },
  {
   "cell_type": "code",
   "execution_count": 2,
   "metadata": {},
   "outputs": [],
   "source": [
    "path = '../data/'"
   ]
  },
  {
   "cell_type": "markdown",
   "metadata": {},
   "source": [
    "# Import Data"
   ]
  },
  {
   "cell_type": "code",
   "execution_count": 3,
   "metadata": {},
   "outputs": [
    {
     "data": {
      "text/html": [
       "<div>\n",
       "<style scoped>\n",
       "    .dataframe tbody tr th:only-of-type {\n",
       "        vertical-align: middle;\n",
       "    }\n",
       "\n",
       "    .dataframe tbody tr th {\n",
       "        vertical-align: top;\n",
       "    }\n",
       "\n",
       "    .dataframe thead th {\n",
       "        text-align: right;\n",
       "    }\n",
       "</style>\n",
       "<table border=\"1\" class=\"dataframe\">\n",
       "  <thead>\n",
       "    <tr style=\"text-align: right;\">\n",
       "      <th></th>\n",
       "      <th>order_id</th>\n",
       "      <th>customer_id</th>\n",
       "      <th>order_date</th>\n",
       "      <th>promised_delivery_time</th>\n",
       "      <th>actual_delivery_time</th>\n",
       "      <th>delivery_status</th>\n",
       "      <th>order_total</th>\n",
       "      <th>payment_method</th>\n",
       "      <th>delivery_partner_id</th>\n",
       "      <th>store_id</th>\n",
       "    </tr>\n",
       "  </thead>\n",
       "  <tbody>\n",
       "    <tr>\n",
       "      <th>0</th>\n",
       "      <td>1961864118</td>\n",
       "      <td>30065862</td>\n",
       "      <td>2024-07-17 08:34:01</td>\n",
       "      <td>2024-07-17 08:52:01</td>\n",
       "      <td>2024-07-17 08:47:01</td>\n",
       "      <td>On Time</td>\n",
       "      <td>3197.07</td>\n",
       "      <td>Cash</td>\n",
       "      <td>63230</td>\n",
       "      <td>4771</td>\n",
       "    </tr>\n",
       "    <tr>\n",
       "      <th>1</th>\n",
       "      <td>1549769649</td>\n",
       "      <td>9573071</td>\n",
       "      <td>2024-05-28 13:14:29</td>\n",
       "      <td>2024-05-28 13:25:29</td>\n",
       "      <td>2024-05-28 13:27:29</td>\n",
       "      <td>On Time</td>\n",
       "      <td>976.55</td>\n",
       "      <td>Cash</td>\n",
       "      <td>14983</td>\n",
       "      <td>7534</td>\n",
       "    </tr>\n",
       "    <tr>\n",
       "      <th>2</th>\n",
       "      <td>9185164487</td>\n",
       "      <td>45477575</td>\n",
       "      <td>2024-09-23 13:07:12</td>\n",
       "      <td>2024-09-23 13:25:12</td>\n",
       "      <td>2024-09-23 13:29:12</td>\n",
       "      <td>On Time</td>\n",
       "      <td>839.05</td>\n",
       "      <td>UPI</td>\n",
       "      <td>39859</td>\n",
       "      <td>9886</td>\n",
       "    </tr>\n",
       "    <tr>\n",
       "      <th>3</th>\n",
       "      <td>9644738826</td>\n",
       "      <td>88067569</td>\n",
       "      <td>2023-11-24 16:16:56</td>\n",
       "      <td>2023-11-24 16:34:56</td>\n",
       "      <td>2023-11-24 16:33:56</td>\n",
       "      <td>On Time</td>\n",
       "      <td>440.23</td>\n",
       "      <td>Card</td>\n",
       "      <td>61497</td>\n",
       "      <td>7917</td>\n",
       "    </tr>\n",
       "    <tr>\n",
       "      <th>4</th>\n",
       "      <td>5427684290</td>\n",
       "      <td>83298567</td>\n",
       "      <td>2023-11-20 05:00:39</td>\n",
       "      <td>2023-11-20 05:17:39</td>\n",
       "      <td>2023-11-20 05:18:39</td>\n",
       "      <td>On Time</td>\n",
       "      <td>2526.68</td>\n",
       "      <td>Cash</td>\n",
       "      <td>84315</td>\n",
       "      <td>2741</td>\n",
       "    </tr>\n",
       "  </tbody>\n",
       "</table>\n",
       "</div>"
      ],
      "text/plain": [
       "     order_id  customer_id           order_date promised_delivery_time  \\\n",
       "0  1961864118     30065862  2024-07-17 08:34:01    2024-07-17 08:52:01   \n",
       "1  1549769649      9573071  2024-05-28 13:14:29    2024-05-28 13:25:29   \n",
       "2  9185164487     45477575  2024-09-23 13:07:12    2024-09-23 13:25:12   \n",
       "3  9644738826     88067569  2023-11-24 16:16:56    2023-11-24 16:34:56   \n",
       "4  5427684290     83298567  2023-11-20 05:00:39    2023-11-20 05:17:39   \n",
       "\n",
       "  actual_delivery_time delivery_status  order_total payment_method  \\\n",
       "0  2024-07-17 08:47:01         On Time      3197.07           Cash   \n",
       "1  2024-05-28 13:27:29         On Time       976.55           Cash   \n",
       "2  2024-09-23 13:29:12         On Time       839.05            UPI   \n",
       "3  2023-11-24 16:33:56         On Time       440.23           Card   \n",
       "4  2023-11-20 05:18:39         On Time      2526.68           Cash   \n",
       "\n",
       "   delivery_partner_id  store_id  \n",
       "0                63230      4771  \n",
       "1                14983      7534  \n",
       "2                39859      9886  \n",
       "3                61497      7917  \n",
       "4                84315      2741  "
      ]
     },
     "execution_count": 3,
     "metadata": {},
     "output_type": "execute_result"
    }
   ],
   "source": [
    "orders = pd.read_csv(path + 'blinkit_orders.csv')\n",
    "orders.head()"
   ]
  },
  {
   "cell_type": "code",
   "execution_count": 4,
   "metadata": {},
   "outputs": [
    {
     "data": {
      "text/html": [
       "<div>\n",
       "<style scoped>\n",
       "    .dataframe tbody tr th:only-of-type {\n",
       "        vertical-align: middle;\n",
       "    }\n",
       "\n",
       "    .dataframe tbody tr th {\n",
       "        vertical-align: top;\n",
       "    }\n",
       "\n",
       "    .dataframe thead th {\n",
       "        text-align: right;\n",
       "    }\n",
       "</style>\n",
       "<table border=\"1\" class=\"dataframe\">\n",
       "  <thead>\n",
       "    <tr style=\"text-align: right;\">\n",
       "      <th></th>\n",
       "      <th>order_id</th>\n",
       "      <th>product_id</th>\n",
       "      <th>quantity</th>\n",
       "      <th>unit_price</th>\n",
       "    </tr>\n",
       "  </thead>\n",
       "  <tbody>\n",
       "    <tr>\n",
       "      <th>0</th>\n",
       "      <td>1961864118</td>\n",
       "      <td>642612</td>\n",
       "      <td>3</td>\n",
       "      <td>517.03</td>\n",
       "    </tr>\n",
       "    <tr>\n",
       "      <th>1</th>\n",
       "      <td>1549769649</td>\n",
       "      <td>378676</td>\n",
       "      <td>1</td>\n",
       "      <td>881.42</td>\n",
       "    </tr>\n",
       "    <tr>\n",
       "      <th>2</th>\n",
       "      <td>9185164487</td>\n",
       "      <td>741341</td>\n",
       "      <td>2</td>\n",
       "      <td>923.84</td>\n",
       "    </tr>\n",
       "    <tr>\n",
       "      <th>3</th>\n",
       "      <td>9644738826</td>\n",
       "      <td>561860</td>\n",
       "      <td>1</td>\n",
       "      <td>874.78</td>\n",
       "    </tr>\n",
       "    <tr>\n",
       "      <th>4</th>\n",
       "      <td>5427684290</td>\n",
       "      <td>602241</td>\n",
       "      <td>2</td>\n",
       "      <td>976.55</td>\n",
       "    </tr>\n",
       "  </tbody>\n",
       "</table>\n",
       "</div>"
      ],
      "text/plain": [
       "     order_id  product_id  quantity  unit_price\n",
       "0  1961864118      642612         3      517.03\n",
       "1  1549769649      378676         1      881.42\n",
       "2  9185164487      741341         2      923.84\n",
       "3  9644738826      561860         1      874.78\n",
       "4  5427684290      602241         2      976.55"
      ]
     },
     "execution_count": 4,
     "metadata": {},
     "output_type": "execute_result"
    }
   ],
   "source": [
    "orders_items = pd.read_csv(path + 'blinkit_order_items.csv')\n",
    "orders_items.head()"
   ]
  },
  {
   "cell_type": "code",
   "execution_count": 5,
   "metadata": {},
   "outputs": [
    {
     "data": {
      "text/html": [
       "<div>\n",
       "<style scoped>\n",
       "    .dataframe tbody tr th:only-of-type {\n",
       "        vertical-align: middle;\n",
       "    }\n",
       "\n",
       "    .dataframe tbody tr th {\n",
       "        vertical-align: top;\n",
       "    }\n",
       "\n",
       "    .dataframe thead th {\n",
       "        text-align: right;\n",
       "    }\n",
       "</style>\n",
       "<table border=\"1\" class=\"dataframe\">\n",
       "  <thead>\n",
       "    <tr style=\"text-align: right;\">\n",
       "      <th></th>\n",
       "      <th>product_id</th>\n",
       "      <th>product_name</th>\n",
       "      <th>category</th>\n",
       "      <th>brand</th>\n",
       "      <th>price</th>\n",
       "      <th>mrp</th>\n",
       "      <th>margin_percentage</th>\n",
       "      <th>shelf_life_days</th>\n",
       "      <th>min_stock_level</th>\n",
       "      <th>max_stock_level</th>\n",
       "    </tr>\n",
       "  </thead>\n",
       "  <tbody>\n",
       "    <tr>\n",
       "      <th>0</th>\n",
       "      <td>153019</td>\n",
       "      <td>Onions</td>\n",
       "      <td>Fruits &amp; Vegetables</td>\n",
       "      <td>Aurora LLC</td>\n",
       "      <td>947.95</td>\n",
       "      <td>1263.93</td>\n",
       "      <td>25.0</td>\n",
       "      <td>3</td>\n",
       "      <td>13</td>\n",
       "      <td>88</td>\n",
       "    </tr>\n",
       "    <tr>\n",
       "      <th>1</th>\n",
       "      <td>11422</td>\n",
       "      <td>Potatoes</td>\n",
       "      <td>Fruits &amp; Vegetables</td>\n",
       "      <td>Ramaswamy-Tata</td>\n",
       "      <td>127.16</td>\n",
       "      <td>169.55</td>\n",
       "      <td>25.0</td>\n",
       "      <td>3</td>\n",
       "      <td>20</td>\n",
       "      <td>65</td>\n",
       "    </tr>\n",
       "    <tr>\n",
       "      <th>2</th>\n",
       "      <td>669378</td>\n",
       "      <td>Potatoes</td>\n",
       "      <td>Fruits &amp; Vegetables</td>\n",
       "      <td>Chadha and Sons</td>\n",
       "      <td>212.14</td>\n",
       "      <td>282.85</td>\n",
       "      <td>25.0</td>\n",
       "      <td>3</td>\n",
       "      <td>23</td>\n",
       "      <td>70</td>\n",
       "    </tr>\n",
       "    <tr>\n",
       "      <th>3</th>\n",
       "      <td>848226</td>\n",
       "      <td>Tomatoes</td>\n",
       "      <td>Fruits &amp; Vegetables</td>\n",
       "      <td>Barad and Sons</td>\n",
       "      <td>209.59</td>\n",
       "      <td>279.45</td>\n",
       "      <td>25.0</td>\n",
       "      <td>3</td>\n",
       "      <td>10</td>\n",
       "      <td>51</td>\n",
       "    </tr>\n",
       "    <tr>\n",
       "      <th>4</th>\n",
       "      <td>890623</td>\n",
       "      <td>Onions</td>\n",
       "      <td>Fruits &amp; Vegetables</td>\n",
       "      <td>Sangha, Nagar and Varty</td>\n",
       "      <td>354.52</td>\n",
       "      <td>472.69</td>\n",
       "      <td>25.0</td>\n",
       "      <td>3</td>\n",
       "      <td>27</td>\n",
       "      <td>55</td>\n",
       "    </tr>\n",
       "  </tbody>\n",
       "</table>\n",
       "</div>"
      ],
      "text/plain": [
       "   product_id product_name             category                    brand  \\\n",
       "0      153019       Onions  Fruits & Vegetables               Aurora LLC   \n",
       "1       11422     Potatoes  Fruits & Vegetables           Ramaswamy-Tata   \n",
       "2      669378     Potatoes  Fruits & Vegetables          Chadha and Sons   \n",
       "3      848226     Tomatoes  Fruits & Vegetables           Barad and Sons   \n",
       "4      890623       Onions  Fruits & Vegetables  Sangha, Nagar and Varty   \n",
       "\n",
       "    price      mrp  margin_percentage  shelf_life_days  min_stock_level  \\\n",
       "0  947.95  1263.93               25.0                3               13   \n",
       "1  127.16   169.55               25.0                3               20   \n",
       "2  212.14   282.85               25.0                3               23   \n",
       "3  209.59   279.45               25.0                3               10   \n",
       "4  354.52   472.69               25.0                3               27   \n",
       "\n",
       "   max_stock_level  \n",
       "0               88  \n",
       "1               65  \n",
       "2               70  \n",
       "3               51  \n",
       "4               55  "
      ]
     },
     "execution_count": 5,
     "metadata": {},
     "output_type": "execute_result"
    }
   ],
   "source": [
    "products = pd.read_csv(path + 'blinkit_products.csv')\n",
    "products.head()"
   ]
  },
  {
   "cell_type": "code",
   "execution_count": 6,
   "metadata": {},
   "outputs": [
    {
     "data": {
      "text/html": [
       "<div>\n",
       "<style scoped>\n",
       "    .dataframe tbody tr th:only-of-type {\n",
       "        vertical-align: middle;\n",
       "    }\n",
       "\n",
       "    .dataframe tbody tr th {\n",
       "        vertical-align: top;\n",
       "    }\n",
       "\n",
       "    .dataframe thead th {\n",
       "        text-align: right;\n",
       "    }\n",
       "</style>\n",
       "<table border=\"1\" class=\"dataframe\">\n",
       "  <thead>\n",
       "    <tr style=\"text-align: right;\">\n",
       "      <th></th>\n",
       "      <th>customer_id</th>\n",
       "      <th>customer_name</th>\n",
       "      <th>email</th>\n",
       "      <th>phone</th>\n",
       "      <th>address</th>\n",
       "      <th>area</th>\n",
       "      <th>pincode</th>\n",
       "      <th>registration_date</th>\n",
       "      <th>customer_segment</th>\n",
       "      <th>total_orders</th>\n",
       "      <th>avg_order_value</th>\n",
       "    </tr>\n",
       "  </thead>\n",
       "  <tbody>\n",
       "    <tr>\n",
       "      <th>0</th>\n",
       "      <td>97475543</td>\n",
       "      <td>Niharika Nagi</td>\n",
       "      <td>ektataneja@example.org</td>\n",
       "      <td>912987579691</td>\n",
       "      <td>23, Nayar Path, Bihar Sharif-154625</td>\n",
       "      <td>Udupi</td>\n",
       "      <td>321865</td>\n",
       "      <td>2023-05-13</td>\n",
       "      <td>Premium</td>\n",
       "      <td>13</td>\n",
       "      <td>451.92</td>\n",
       "    </tr>\n",
       "    <tr>\n",
       "      <th>1</th>\n",
       "      <td>22077605</td>\n",
       "      <td>Megha Sachar</td>\n",
       "      <td>vedant45@example.com</td>\n",
       "      <td>915123179717</td>\n",
       "      <td>51/302, Buch Chowk\\nSrinagar-570271</td>\n",
       "      <td>Aligarh</td>\n",
       "      <td>149394</td>\n",
       "      <td>2024-06-18</td>\n",
       "      <td>Inactive</td>\n",
       "      <td>4</td>\n",
       "      <td>825.48</td>\n",
       "    </tr>\n",
       "    <tr>\n",
       "      <th>2</th>\n",
       "      <td>47822591</td>\n",
       "      <td>Hema Bahri</td>\n",
       "      <td>samiazaan@example.com</td>\n",
       "      <td>910034076149</td>\n",
       "      <td>941\\nAnne Street, Darbhanga 186125</td>\n",
       "      <td>Begusarai</td>\n",
       "      <td>621411</td>\n",
       "      <td>2024-09-25</td>\n",
       "      <td>Regular</td>\n",
       "      <td>17</td>\n",
       "      <td>1969.81</td>\n",
       "    </tr>\n",
       "    <tr>\n",
       "      <th>3</th>\n",
       "      <td>79726146</td>\n",
       "      <td>Zaitra Vig</td>\n",
       "      <td>ishanvi87@example.org</td>\n",
       "      <td>916264232390</td>\n",
       "      <td>43/94, Ghosh, Alappuzha 635655</td>\n",
       "      <td>Kozhikode</td>\n",
       "      <td>826054</td>\n",
       "      <td>2023-10-04</td>\n",
       "      <td>New</td>\n",
       "      <td>4</td>\n",
       "      <td>220.09</td>\n",
       "    </tr>\n",
       "    <tr>\n",
       "      <th>4</th>\n",
       "      <td>57102800</td>\n",
       "      <td>Januja Verma</td>\n",
       "      <td>atideshpande@example.org</td>\n",
       "      <td>917293526596</td>\n",
       "      <td>06\\nOm, Ambarnath 477463</td>\n",
       "      <td>Ichalkaranji</td>\n",
       "      <td>730539</td>\n",
       "      <td>2024-03-22</td>\n",
       "      <td>Inactive</td>\n",
       "      <td>14</td>\n",
       "      <td>578.14</td>\n",
       "    </tr>\n",
       "  </tbody>\n",
       "</table>\n",
       "</div>"
      ],
      "text/plain": [
       "   customer_id  customer_name                     email         phone  \\\n",
       "0     97475543  Niharika Nagi    ektataneja@example.org  912987579691   \n",
       "1     22077605   Megha Sachar      vedant45@example.com  915123179717   \n",
       "2     47822591     Hema Bahri     samiazaan@example.com  910034076149   \n",
       "3     79726146     Zaitra Vig     ishanvi87@example.org  916264232390   \n",
       "4     57102800   Januja Verma  atideshpande@example.org  917293526596   \n",
       "\n",
       "                               address          area  pincode  \\\n",
       "0  23, Nayar Path, Bihar Sharif-154625         Udupi   321865   \n",
       "1  51/302, Buch Chowk\\nSrinagar-570271       Aligarh   149394   \n",
       "2   941\\nAnne Street, Darbhanga 186125     Begusarai   621411   \n",
       "3       43/94, Ghosh, Alappuzha 635655     Kozhikode   826054   \n",
       "4             06\\nOm, Ambarnath 477463  Ichalkaranji   730539   \n",
       "\n",
       "  registration_date customer_segment  total_orders  avg_order_value  \n",
       "0        2023-05-13          Premium            13           451.92  \n",
       "1        2024-06-18         Inactive             4           825.48  \n",
       "2        2024-09-25          Regular            17          1969.81  \n",
       "3        2023-10-04              New             4           220.09  \n",
       "4        2024-03-22         Inactive            14           578.14  "
      ]
     },
     "execution_count": 6,
     "metadata": {},
     "output_type": "execute_result"
    }
   ],
   "source": [
    "customers = pd.read_csv(path + 'blinkit_customers.csv')\n",
    "customers.head()"
   ]
  },
  {
   "cell_type": "code",
   "execution_count": 18,
   "metadata": {},
   "outputs": [
    {
     "data": {
      "text/html": [
       "<div>\n",
       "<style scoped>\n",
       "    .dataframe tbody tr th:only-of-type {\n",
       "        vertical-align: middle;\n",
       "    }\n",
       "\n",
       "    .dataframe tbody tr th {\n",
       "        vertical-align: top;\n",
       "    }\n",
       "\n",
       "    .dataframe thead th {\n",
       "        text-align: right;\n",
       "    }\n",
       "</style>\n",
       "<table border=\"1\" class=\"dataframe\">\n",
       "  <thead>\n",
       "    <tr style=\"text-align: right;\">\n",
       "      <th></th>\n",
       "      <th>product_id</th>\n",
       "      <th>date</th>\n",
       "      <th>stock_received</th>\n",
       "      <th>damaged_stock</th>\n",
       "    </tr>\n",
       "  </thead>\n",
       "  <tbody>\n",
       "    <tr>\n",
       "      <th>0</th>\n",
       "      <td>153019</td>\n",
       "      <td>17-03-2023</td>\n",
       "      <td>4</td>\n",
       "      <td>2</td>\n",
       "    </tr>\n",
       "    <tr>\n",
       "      <th>1</th>\n",
       "      <td>848226</td>\n",
       "      <td>17-03-2023</td>\n",
       "      <td>4</td>\n",
       "      <td>2</td>\n",
       "    </tr>\n",
       "    <tr>\n",
       "      <th>2</th>\n",
       "      <td>965755</td>\n",
       "      <td>17-03-2023</td>\n",
       "      <td>1</td>\n",
       "      <td>0</td>\n",
       "    </tr>\n",
       "    <tr>\n",
       "      <th>3</th>\n",
       "      <td>39154</td>\n",
       "      <td>17-03-2023</td>\n",
       "      <td>4</td>\n",
       "      <td>0</td>\n",
       "    </tr>\n",
       "    <tr>\n",
       "      <th>4</th>\n",
       "      <td>34186</td>\n",
       "      <td>17-03-2023</td>\n",
       "      <td>3</td>\n",
       "      <td>2</td>\n",
       "    </tr>\n",
       "  </tbody>\n",
       "</table>\n",
       "</div>"
      ],
      "text/plain": [
       "   product_id        date  stock_received  damaged_stock\n",
       "0      153019  17-03-2023               4              2\n",
       "1      848226  17-03-2023               4              2\n",
       "2      965755  17-03-2023               1              0\n",
       "3       39154  17-03-2023               4              0\n",
       "4       34186  17-03-2023               3              2"
      ]
     },
     "execution_count": 18,
     "metadata": {},
     "output_type": "execute_result"
    }
   ],
   "source": [
    "inventory = pd.read_csv(path + 'blinkit_inventory.csv')\n",
    "inventory.head()"
   ]
  },
  {
   "cell_type": "code",
   "execution_count": 8,
   "metadata": {},
   "outputs": [
    {
     "data": {
      "text/html": [
       "<div>\n",
       "<style scoped>\n",
       "    .dataframe tbody tr th:only-of-type {\n",
       "        vertical-align: middle;\n",
       "    }\n",
       "\n",
       "    .dataframe tbody tr th {\n",
       "        vertical-align: top;\n",
       "    }\n",
       "\n",
       "    .dataframe thead th {\n",
       "        text-align: right;\n",
       "    }\n",
       "</style>\n",
       "<table border=\"1\" class=\"dataframe\">\n",
       "  <thead>\n",
       "    <tr style=\"text-align: right;\">\n",
       "      <th></th>\n",
       "      <th>campaign_id</th>\n",
       "      <th>campaign_name</th>\n",
       "      <th>date</th>\n",
       "      <th>target_audience</th>\n",
       "      <th>channel</th>\n",
       "      <th>impressions</th>\n",
       "      <th>clicks</th>\n",
       "      <th>conversions</th>\n",
       "      <th>spend</th>\n",
       "      <th>revenue_generated</th>\n",
       "      <th>roas</th>\n",
       "    </tr>\n",
       "  </thead>\n",
       "  <tbody>\n",
       "    <tr>\n",
       "      <th>0</th>\n",
       "      <td>548299</td>\n",
       "      <td>New User Discount</td>\n",
       "      <td>2024-11-05</td>\n",
       "      <td>Premium</td>\n",
       "      <td>App</td>\n",
       "      <td>3130</td>\n",
       "      <td>163</td>\n",
       "      <td>78</td>\n",
       "      <td>1431.85</td>\n",
       "      <td>4777.75</td>\n",
       "      <td>3.60</td>\n",
       "    </tr>\n",
       "    <tr>\n",
       "      <th>1</th>\n",
       "      <td>390914</td>\n",
       "      <td>Weekend Special</td>\n",
       "      <td>2024-11-05</td>\n",
       "      <td>Inactive</td>\n",
       "      <td>App</td>\n",
       "      <td>3925</td>\n",
       "      <td>494</td>\n",
       "      <td>45</td>\n",
       "      <td>4506.34</td>\n",
       "      <td>6238.11</td>\n",
       "      <td>2.98</td>\n",
       "    </tr>\n",
       "    <tr>\n",
       "      <th>2</th>\n",
       "      <td>834385</td>\n",
       "      <td>Festival Offer</td>\n",
       "      <td>2024-11-05</td>\n",
       "      <td>Inactive</td>\n",
       "      <td>Email</td>\n",
       "      <td>7012</td>\n",
       "      <td>370</td>\n",
       "      <td>78</td>\n",
       "      <td>4524.23</td>\n",
       "      <td>2621.00</td>\n",
       "      <td>2.95</td>\n",
       "    </tr>\n",
       "    <tr>\n",
       "      <th>3</th>\n",
       "      <td>241523</td>\n",
       "      <td>Flash Sale</td>\n",
       "      <td>2024-11-05</td>\n",
       "      <td>Inactive</td>\n",
       "      <td>SMS</td>\n",
       "      <td>1115</td>\n",
       "      <td>579</td>\n",
       "      <td>86</td>\n",
       "      <td>3622.79</td>\n",
       "      <td>2955.00</td>\n",
       "      <td>2.84</td>\n",
       "    </tr>\n",
       "    <tr>\n",
       "      <th>4</th>\n",
       "      <td>595111</td>\n",
       "      <td>Membership Drive</td>\n",
       "      <td>2024-11-05</td>\n",
       "      <td>New Users</td>\n",
       "      <td>Email</td>\n",
       "      <td>7172</td>\n",
       "      <td>795</td>\n",
       "      <td>54</td>\n",
       "      <td>2888.99</td>\n",
       "      <td>8951.81</td>\n",
       "      <td>2.22</td>\n",
       "    </tr>\n",
       "  </tbody>\n",
       "</table>\n",
       "</div>"
      ],
      "text/plain": [
       "   campaign_id      campaign_name        date target_audience channel  \\\n",
       "0       548299  New User Discount  2024-11-05         Premium     App   \n",
       "1       390914    Weekend Special  2024-11-05        Inactive     App   \n",
       "2       834385     Festival Offer  2024-11-05        Inactive   Email   \n",
       "3       241523         Flash Sale  2024-11-05        Inactive     SMS   \n",
       "4       595111   Membership Drive  2024-11-05       New Users   Email   \n",
       "\n",
       "   impressions  clicks  conversions    spend  revenue_generated  roas  \n",
       "0         3130     163           78  1431.85            4777.75  3.60  \n",
       "1         3925     494           45  4506.34            6238.11  2.98  \n",
       "2         7012     370           78  4524.23            2621.00  2.95  \n",
       "3         1115     579           86  3622.79            2955.00  2.84  \n",
       "4         7172     795           54  2888.99            8951.81  2.22  "
      ]
     },
     "execution_count": 8,
     "metadata": {},
     "output_type": "execute_result"
    }
   ],
   "source": [
    "marketing = pd.read_csv(path + 'blinkit_marketing_performance.csv')\n",
    "marketing.head()"
   ]
  },
  {
   "cell_type": "code",
   "execution_count": 9,
   "metadata": {},
   "outputs": [
    {
     "data": {
      "text/html": [
       "<div>\n",
       "<style scoped>\n",
       "    .dataframe tbody tr th:only-of-type {\n",
       "        vertical-align: middle;\n",
       "    }\n",
       "\n",
       "    .dataframe tbody tr th {\n",
       "        vertical-align: top;\n",
       "    }\n",
       "\n",
       "    .dataframe thead th {\n",
       "        text-align: right;\n",
       "    }\n",
       "</style>\n",
       "<table border=\"1\" class=\"dataframe\">\n",
       "  <thead>\n",
       "    <tr style=\"text-align: right;\">\n",
       "      <th></th>\n",
       "      <th>feedback_id</th>\n",
       "      <th>order_id</th>\n",
       "      <th>customer_id</th>\n",
       "      <th>rating</th>\n",
       "      <th>feedback_text</th>\n",
       "      <th>feedback_category</th>\n",
       "      <th>sentiment</th>\n",
       "      <th>feedback_date</th>\n",
       "    </tr>\n",
       "  </thead>\n",
       "  <tbody>\n",
       "    <tr>\n",
       "      <th>0</th>\n",
       "      <td>2234710</td>\n",
       "      <td>1961864118</td>\n",
       "      <td>30065862</td>\n",
       "      <td>4</td>\n",
       "      <td>It was okay, nothing special.</td>\n",
       "      <td>Delivery</td>\n",
       "      <td>Neutral</td>\n",
       "      <td>2024-07-17</td>\n",
       "    </tr>\n",
       "    <tr>\n",
       "      <th>1</th>\n",
       "      <td>5450964</td>\n",
       "      <td>1549769649</td>\n",
       "      <td>9573071</td>\n",
       "      <td>3</td>\n",
       "      <td>The order was incorrect.</td>\n",
       "      <td>App Experience</td>\n",
       "      <td>Negative</td>\n",
       "      <td>2024-05-28</td>\n",
       "    </tr>\n",
       "    <tr>\n",
       "      <th>2</th>\n",
       "      <td>482108</td>\n",
       "      <td>9185164487</td>\n",
       "      <td>45477575</td>\n",
       "      <td>3</td>\n",
       "      <td>It was okay, nothing special.</td>\n",
       "      <td>App Experience</td>\n",
       "      <td>Neutral</td>\n",
       "      <td>2024-09-23</td>\n",
       "    </tr>\n",
       "    <tr>\n",
       "      <th>3</th>\n",
       "      <td>4823104</td>\n",
       "      <td>9644738826</td>\n",
       "      <td>88067569</td>\n",
       "      <td>4</td>\n",
       "      <td>The product met my expectations.</td>\n",
       "      <td>App Experience</td>\n",
       "      <td>Neutral</td>\n",
       "      <td>2023-11-24</td>\n",
       "    </tr>\n",
       "    <tr>\n",
       "      <th>4</th>\n",
       "      <td>3537464</td>\n",
       "      <td>5427684290</td>\n",
       "      <td>83298567</td>\n",
       "      <td>3</td>\n",
       "      <td>Product was damaged during delivery.</td>\n",
       "      <td>Delivery</td>\n",
       "      <td>Negative</td>\n",
       "      <td>2023-11-20</td>\n",
       "    </tr>\n",
       "  </tbody>\n",
       "</table>\n",
       "</div>"
      ],
      "text/plain": [
       "   feedback_id    order_id  customer_id  rating  \\\n",
       "0      2234710  1961864118     30065862       4   \n",
       "1      5450964  1549769649      9573071       3   \n",
       "2       482108  9185164487     45477575       3   \n",
       "3      4823104  9644738826     88067569       4   \n",
       "4      3537464  5427684290     83298567       3   \n",
       "\n",
       "                          feedback_text feedback_category sentiment  \\\n",
       "0         It was okay, nothing special.          Delivery   Neutral   \n",
       "1              The order was incorrect.    App Experience  Negative   \n",
       "2         It was okay, nothing special.    App Experience   Neutral   \n",
       "3      The product met my expectations.    App Experience   Neutral   \n",
       "4  Product was damaged during delivery.          Delivery  Negative   \n",
       "\n",
       "  feedback_date  \n",
       "0    2024-07-17  \n",
       "1    2024-05-28  \n",
       "2    2024-09-23  \n",
       "3    2023-11-24  \n",
       "4    2023-11-20  "
      ]
     },
     "execution_count": 9,
     "metadata": {},
     "output_type": "execute_result"
    }
   ],
   "source": [
    "customer_feedback = pd.read_csv(path + 'blinkit_customer_feedback.csv')\n",
    "customer_feedback.head()"
   ]
  },
  {
   "cell_type": "code",
   "execution_count": 27,
   "metadata": {},
   "outputs": [
    {
     "data": {
      "text/html": [
       "<div>\n",
       "<style scoped>\n",
       "    .dataframe tbody tr th:only-of-type {\n",
       "        vertical-align: middle;\n",
       "    }\n",
       "\n",
       "    .dataframe tbody tr th {\n",
       "        vertical-align: top;\n",
       "    }\n",
       "\n",
       "    .dataframe thead th {\n",
       "        text-align: right;\n",
       "    }\n",
       "</style>\n",
       "<table border=\"1\" class=\"dataframe\">\n",
       "  <thead>\n",
       "    <tr style=\"text-align: right;\">\n",
       "      <th></th>\n",
       "      <th>order_id</th>\n",
       "      <th>delivery_partner_id</th>\n",
       "      <th>promised_time</th>\n",
       "      <th>actual_time</th>\n",
       "      <th>delivery_time_minutes</th>\n",
       "      <th>distance_km</th>\n",
       "      <th>delivery_status</th>\n",
       "      <th>reasons_if_delayed</th>\n",
       "    </tr>\n",
       "  </thead>\n",
       "  <tbody>\n",
       "    <tr>\n",
       "      <th>0</th>\n",
       "      <td>1961864118</td>\n",
       "      <td>63230</td>\n",
       "      <td>2024-07-17 08:52:01</td>\n",
       "      <td>2024-07-17 08:47:01</td>\n",
       "      <td>-5.0</td>\n",
       "      <td>0.96</td>\n",
       "      <td>On Time</td>\n",
       "      <td>NaN</td>\n",
       "    </tr>\n",
       "    <tr>\n",
       "      <th>1</th>\n",
       "      <td>1549769649</td>\n",
       "      <td>14983</td>\n",
       "      <td>2024-05-28 13:25:29</td>\n",
       "      <td>2024-05-28 13:27:29</td>\n",
       "      <td>2.0</td>\n",
       "      <td>0.98</td>\n",
       "      <td>On Time</td>\n",
       "      <td>Traffic</td>\n",
       "    </tr>\n",
       "    <tr>\n",
       "      <th>2</th>\n",
       "      <td>9185164487</td>\n",
       "      <td>39859</td>\n",
       "      <td>2024-09-23 13:25:12</td>\n",
       "      <td>2024-09-23 13:29:12</td>\n",
       "      <td>4.0</td>\n",
       "      <td>3.83</td>\n",
       "      <td>On Time</td>\n",
       "      <td>Traffic</td>\n",
       "    </tr>\n",
       "    <tr>\n",
       "      <th>3</th>\n",
       "      <td>9644738826</td>\n",
       "      <td>61497</td>\n",
       "      <td>2023-11-24 16:34:56</td>\n",
       "      <td>2023-11-24 16:33:56</td>\n",
       "      <td>-1.0</td>\n",
       "      <td>2.76</td>\n",
       "      <td>On Time</td>\n",
       "      <td>NaN</td>\n",
       "    </tr>\n",
       "    <tr>\n",
       "      <th>4</th>\n",
       "      <td>5427684290</td>\n",
       "      <td>84315</td>\n",
       "      <td>2023-11-20 05:17:39</td>\n",
       "      <td>2023-11-20 05:18:39</td>\n",
       "      <td>1.0</td>\n",
       "      <td>2.63</td>\n",
       "      <td>On Time</td>\n",
       "      <td>Traffic</td>\n",
       "    </tr>\n",
       "  </tbody>\n",
       "</table>\n",
       "</div>"
      ],
      "text/plain": [
       "     order_id  delivery_partner_id        promised_time          actual_time  \\\n",
       "0  1961864118                63230  2024-07-17 08:52:01  2024-07-17 08:47:01   \n",
       "1  1549769649                14983  2024-05-28 13:25:29  2024-05-28 13:27:29   \n",
       "2  9185164487                39859  2024-09-23 13:25:12  2024-09-23 13:29:12   \n",
       "3  9644738826                61497  2023-11-24 16:34:56  2023-11-24 16:33:56   \n",
       "4  5427684290                84315  2023-11-20 05:17:39  2023-11-20 05:18:39   \n",
       "\n",
       "   delivery_time_minutes  distance_km delivery_status reasons_if_delayed  \n",
       "0                   -5.0         0.96         On Time                NaN  \n",
       "1                    2.0         0.98         On Time            Traffic  \n",
       "2                    4.0         3.83         On Time            Traffic  \n",
       "3                   -1.0         2.76         On Time                NaN  \n",
       "4                    1.0         2.63         On Time            Traffic  "
      ]
     },
     "execution_count": 27,
     "metadata": {},
     "output_type": "execute_result"
    }
   ],
   "source": [
    "delivery = pd.read_csv(path + 'blinkit_delivery_performance.csv')\n",
    "delivery.head()"
   ]
  },
  {
   "cell_type": "markdown",
   "metadata": {},
   "source": [
    "# Data Cleaning"
   ]
  },
  {
   "cell_type": "markdown",
   "metadata": {},
   "source": [
    "## Checking Data Types"
   ]
  },
  {
   "cell_type": "code",
   "execution_count": 10,
   "metadata": {},
   "outputs": [
    {
     "data": {
      "text/plain": [
       "order_id                    int64\n",
       "customer_id                 int64\n",
       "order_date                 object\n",
       "promised_delivery_time     object\n",
       "actual_delivery_time       object\n",
       "delivery_status            object\n",
       "order_total               float64\n",
       "payment_method             object\n",
       "delivery_partner_id         int64\n",
       "store_id                    int64\n",
       "dtype: object"
      ]
     },
     "execution_count": 10,
     "metadata": {},
     "output_type": "execute_result"
    }
   ],
   "source": [
    "orders.dtypes"
   ]
  },
  {
   "cell_type": "markdown",
   "metadata": {},
   "source": [
    "Kolom `order_date`, `promised_delivery_time`,`actual_delivery_time` masih bertipe object, perlu diubah ke date time."
   ]
  },
  {
   "cell_type": "code",
   "execution_count": 53,
   "metadata": {},
   "outputs": [],
   "source": [
    "# Mengubah kolom ke datetime\n",
    "orders['order_date'] = pd.to_datetime(orders['order_date'])\n",
    "orders['promised_delivery_time'] = pd.to_datetime(orders['promised_delivery_time'])\n",
    "orders['actual_delivery_time'] = pd.to_datetime(orders['actual_delivery_time'])\n",
    "orders['order_date_time'] = pd.to_datetime(orders['order_date']).dt.date"
   ]
  },
  {
   "cell_type": "code",
   "execution_count": 14,
   "metadata": {},
   "outputs": [
    {
     "data": {
      "text/plain": [
       "order_id        int64\n",
       "product_id      int64\n",
       "quantity        int64\n",
       "unit_price    float64\n",
       "dtype: object"
      ]
     },
     "execution_count": 14,
     "metadata": {},
     "output_type": "execute_result"
    }
   ],
   "source": [
    "orders_items.dtypes"
   ]
  },
  {
   "cell_type": "code",
   "execution_count": 15,
   "metadata": {},
   "outputs": [
    {
     "data": {
      "text/plain": [
       "product_id             int64\n",
       "product_name          object\n",
       "category              object\n",
       "brand                 object\n",
       "price                float64\n",
       "mrp                  float64\n",
       "margin_percentage    float64\n",
       "shelf_life_days        int64\n",
       "min_stock_level        int64\n",
       "max_stock_level        int64\n",
       "dtype: object"
      ]
     },
     "execution_count": 15,
     "metadata": {},
     "output_type": "execute_result"
    }
   ],
   "source": [
    "products.dtypes"
   ]
  },
  {
   "cell_type": "code",
   "execution_count": 16,
   "metadata": {},
   "outputs": [
    {
     "data": {
      "text/plain": [
       "product_id         int64\n",
       "date              object\n",
       "stock_received     int64\n",
       "damaged_stock      int64\n",
       "dtype: object"
      ]
     },
     "execution_count": 16,
     "metadata": {},
     "output_type": "execute_result"
    }
   ],
   "source": [
    "inventory.dtypes"
   ]
  },
  {
   "cell_type": "markdown",
   "metadata": {},
   "source": [
    "Kolom date masih bertipe object, perlu diubah ke datetime"
   ]
  },
  {
   "cell_type": "code",
   "execution_count": 19,
   "metadata": {},
   "outputs": [
    {
     "name": "stderr",
     "output_type": "stream",
     "text": [
      "C:\\Users\\prada\\AppData\\Local\\Temp\\ipykernel_27732\\3751087986.py:1: UserWarning: Parsing dates in %d-%m-%Y format when dayfirst=False (the default) was specified. Pass `dayfirst=True` or specify a format to silence this warning.\n",
      "  inventory['date'] = pd.to_datetime(inventory['date'])\n"
     ]
    }
   ],
   "source": [
    "inventory['date'] = pd.to_datetime(inventory['date'])"
   ]
  },
  {
   "cell_type": "code",
   "execution_count": 20,
   "metadata": {},
   "outputs": [
    {
     "data": {
      "text/plain": [
       "customer_id            int64\n",
       "customer_name         object\n",
       "email                 object\n",
       "phone                  int64\n",
       "address               object\n",
       "area                  object\n",
       "pincode                int64\n",
       "registration_date     object\n",
       "customer_segment      object\n",
       "total_orders           int64\n",
       "avg_order_value      float64\n",
       "dtype: object"
      ]
     },
     "execution_count": 20,
     "metadata": {},
     "output_type": "execute_result"
    }
   ],
   "source": [
    "customers.dtypes"
   ]
  },
  {
   "cell_type": "code",
   "execution_count": 21,
   "metadata": {},
   "outputs": [],
   "source": [
    "customers['registration_date'] = pd.to_datetime(customers['registration_date'])"
   ]
  },
  {
   "cell_type": "code",
   "execution_count": 22,
   "metadata": {},
   "outputs": [
    {
     "data": {
      "text/plain": [
       "feedback_id           int64\n",
       "order_id              int64\n",
       "customer_id           int64\n",
       "rating                int64\n",
       "feedback_text        object\n",
       "feedback_category    object\n",
       "sentiment            object\n",
       "feedback_date        object\n",
       "dtype: object"
      ]
     },
     "execution_count": 22,
     "metadata": {},
     "output_type": "execute_result"
    }
   ],
   "source": [
    "customer_feedback.dtypes"
   ]
  },
  {
   "cell_type": "code",
   "execution_count": 24,
   "metadata": {},
   "outputs": [],
   "source": [
    "customer_feedback['feedback_date'] = pd.to_datetime(customer_feedback['feedback_date'])"
   ]
  },
  {
   "cell_type": "code",
   "execution_count": 25,
   "metadata": {},
   "outputs": [
    {
     "data": {
      "text/plain": [
       "campaign_id            int64\n",
       "campaign_name         object\n",
       "date                  object\n",
       "target_audience       object\n",
       "channel               object\n",
       "impressions            int64\n",
       "clicks                 int64\n",
       "conversions            int64\n",
       "spend                float64\n",
       "revenue_generated    float64\n",
       "roas                 float64\n",
       "dtype: object"
      ]
     },
     "execution_count": 25,
     "metadata": {},
     "output_type": "execute_result"
    }
   ],
   "source": [
    "marketing.dtypes"
   ]
  },
  {
   "cell_type": "code",
   "execution_count": 26,
   "metadata": {},
   "outputs": [],
   "source": [
    "marketing['date'] = pd.to_datetime(marketing['date'])"
   ]
  },
  {
   "cell_type": "code",
   "execution_count": 28,
   "metadata": {},
   "outputs": [
    {
     "data": {
      "text/plain": [
       "order_id                   int64\n",
       "delivery_partner_id        int64\n",
       "promised_time             object\n",
       "actual_time               object\n",
       "delivery_time_minutes    float64\n",
       "distance_km              float64\n",
       "delivery_status           object\n",
       "reasons_if_delayed        object\n",
       "dtype: object"
      ]
     },
     "execution_count": 28,
     "metadata": {},
     "output_type": "execute_result"
    }
   ],
   "source": [
    "delivery.dtypes"
   ]
  },
  {
   "cell_type": "code",
   "execution_count": 29,
   "metadata": {},
   "outputs": [],
   "source": [
    "delivery['actual_time'] = pd.to_datetime(delivery['actual_time'])\n",
    "delivery['promised_time'] = pd.to_datetime(delivery['promised_time'])"
   ]
  },
  {
   "cell_type": "markdown",
   "metadata": {},
   "source": [
    "## Checking Null Value"
   ]
  },
  {
   "cell_type": "code",
   "execution_count": 30,
   "metadata": {},
   "outputs": [
    {
     "data": {
      "text/plain": [
       "order_id                  0\n",
       "customer_id               0\n",
       "order_date                0\n",
       "promised_delivery_time    0\n",
       "actual_delivery_time      0\n",
       "delivery_status           0\n",
       "order_total               0\n",
       "payment_method            0\n",
       "delivery_partner_id       0\n",
       "store_id                  0\n",
       "dtype: int64"
      ]
     },
     "execution_count": 30,
     "metadata": {},
     "output_type": "execute_result"
    }
   ],
   "source": [
    "orders.isnull().sum()"
   ]
  },
  {
   "cell_type": "code",
   "execution_count": 31,
   "metadata": {},
   "outputs": [
    {
     "data": {
      "text/plain": [
       "order_id      0\n",
       "product_id    0\n",
       "quantity      0\n",
       "unit_price    0\n",
       "dtype: int64"
      ]
     },
     "execution_count": 31,
     "metadata": {},
     "output_type": "execute_result"
    }
   ],
   "source": [
    "orders_items.isnull().sum()"
   ]
  },
  {
   "cell_type": "code",
   "execution_count": 32,
   "metadata": {},
   "outputs": [
    {
     "data": {
      "text/plain": [
       "product_id           0\n",
       "product_name         0\n",
       "category             0\n",
       "brand                0\n",
       "price                0\n",
       "mrp                  0\n",
       "margin_percentage    0\n",
       "shelf_life_days      0\n",
       "min_stock_level      0\n",
       "max_stock_level      0\n",
       "dtype: int64"
      ]
     },
     "execution_count": 32,
     "metadata": {},
     "output_type": "execute_result"
    }
   ],
   "source": [
    "products.isnull().sum()"
   ]
  },
  {
   "cell_type": "code",
   "execution_count": 33,
   "metadata": {},
   "outputs": [
    {
     "data": {
      "text/plain": [
       "product_id        0\n",
       "date              0\n",
       "stock_received    0\n",
       "damaged_stock     0\n",
       "dtype: int64"
      ]
     },
     "execution_count": 33,
     "metadata": {},
     "output_type": "execute_result"
    }
   ],
   "source": [
    "inventory.isnull().sum()"
   ]
  },
  {
   "cell_type": "code",
   "execution_count": 34,
   "metadata": {},
   "outputs": [
    {
     "data": {
      "text/plain": [
       "customer_id          0\n",
       "customer_name        0\n",
       "email                0\n",
       "phone                0\n",
       "address              0\n",
       "area                 0\n",
       "pincode              0\n",
       "registration_date    0\n",
       "customer_segment     0\n",
       "total_orders         0\n",
       "avg_order_value      0\n",
       "dtype: int64"
      ]
     },
     "execution_count": 34,
     "metadata": {},
     "output_type": "execute_result"
    }
   ],
   "source": [
    "customers.isnull().sum()"
   ]
  },
  {
   "cell_type": "code",
   "execution_count": 35,
   "metadata": {},
   "outputs": [
    {
     "data": {
      "text/plain": [
       "feedback_id          0\n",
       "order_id             0\n",
       "customer_id          0\n",
       "rating               0\n",
       "feedback_text        0\n",
       "feedback_category    0\n",
       "sentiment            0\n",
       "feedback_date        0\n",
       "dtype: int64"
      ]
     },
     "execution_count": 35,
     "metadata": {},
     "output_type": "execute_result"
    }
   ],
   "source": [
    "customer_feedback.isnull().sum()"
   ]
  },
  {
   "cell_type": "code",
   "execution_count": 36,
   "metadata": {},
   "outputs": [
    {
     "data": {
      "text/plain": [
       "campaign_id          0\n",
       "campaign_name        0\n",
       "date                 0\n",
       "target_audience      0\n",
       "channel              0\n",
       "impressions          0\n",
       "clicks               0\n",
       "conversions          0\n",
       "spend                0\n",
       "revenue_generated    0\n",
       "roas                 0\n",
       "dtype: int64"
      ]
     },
     "execution_count": 36,
     "metadata": {},
     "output_type": "execute_result"
    }
   ],
   "source": [
    "marketing.isnull().sum()"
   ]
  },
  {
   "cell_type": "code",
   "execution_count": 37,
   "metadata": {},
   "outputs": [
    {
     "data": {
      "text/plain": [
       "order_id                    0\n",
       "delivery_partner_id         0\n",
       "promised_time               0\n",
       "actual_time                 0\n",
       "delivery_time_minutes       0\n",
       "distance_km                 0\n",
       "delivery_status             0\n",
       "reasons_if_delayed       1902\n",
       "dtype: int64"
      ]
     },
     "execution_count": 37,
     "metadata": {},
     "output_type": "execute_result"
    }
   ],
   "source": [
    "delivery.isnull().sum()"
   ]
  },
  {
   "cell_type": "markdown",
   "metadata": {},
   "source": [
    "## Export Data Clean"
   ]
  },
  {
   "cell_type": "code",
   "execution_count": 2,
   "metadata": {},
   "outputs": [],
   "source": [
    "path_clean = '../data/clean/'"
   ]
  },
  {
   "cell_type": "code",
   "execution_count": 40,
   "metadata": {},
   "outputs": [],
   "source": [
    "orders.to_csv(path_clean + 'orders.csv', index=False)\n",
    "orders_items.to_csv(path_clean + 'orders_items.csv', index=False)\n",
    "products.to_csv(path_clean + 'products.csv', index=False)\n",
    "inventory.to_csv(path_clean + 'inventory.csv', index=False)\n",
    "customers.to_csv(path_clean + 'customers.csv', index=False)\n",
    "customer_feedback.to_csv(path_clean + 'customer_feedback.csv', index=False)\n",
    "marketing.to_csv(path_clean + 'marketing.csv', index=False)\n",
    "delivery.to_csv(path_clean + 'delivery.csv', index=False)"
   ]
  },
  {
   "cell_type": "markdown",
   "metadata": {},
   "source": [
    "# Check Point Import Data"
   ]
  },
  {
   "cell_type": "code",
   "execution_count": 3,
   "metadata": {},
   "outputs": [],
   "source": [
    "orders = pd.read_csv(path_clean + 'orders.csv')\n",
    "orders_items = pd.read_csv(path_clean + 'orders_items.csv')\n",
    "products = pd.read_csv(path_clean + 'products.csv')\n",
    "inventory = pd.read_csv(path_clean + 'inventory.csv')\n",
    "customers = pd.read_csv(path_clean + 'customers.csv')\n",
    "customer_feedback = pd.read_csv(path_clean + 'customer_feedback.csv')\n",
    "marketing = pd.read_csv(path_clean + 'marketing.csv')\n",
    "delivery = pd.read_csv(path_clean + 'delivery.csv')"
   ]
  },
  {
   "cell_type": "markdown",
   "metadata": {},
   "source": [
    "# Exploratory Data Analysis"
   ]
  },
  {
   "cell_type": "code",
   "execution_count": 45,
   "metadata": {},
   "outputs": [
    {
     "name": "stdout",
     "output_type": "stream",
     "text": [
      "Jumlah Transaksi: 5000\n"
     ]
    }
   ],
   "source": [
    "N_observations, N_features = orders.shape\n",
    "print(f'Jumlah Transaksi: {N_observations}')"
   ]
  },
  {
   "cell_type": "code",
   "execution_count": 51,
   "metadata": {},
   "outputs": [
    {
     "name": "stdout",
     "output_type": "stream",
     "text": [
      "On Time: 3470\n",
      "Slightly Delayed: 1037\n",
      "Significantly Delayed: 493\n"
     ]
    }
   ],
   "source": [
    "delivery_status = orders['delivery_status'].value_counts()\n",
    "for status, count in delivery_status.items():\n",
    "    print(f'{status}: {count}')"
   ]
  },
  {
   "cell_type": "code",
   "execution_count": 49,
   "metadata": {},
   "outputs": [
    {
     "name": "stdout",
     "output_type": "stream",
     "text": [
      "Tanggal Awal Transaksi: 2023-03-16 08:10:44\n",
      "Tanggal Akhir Transaksi: 2024-11-04 20:29:15\n",
      "Durasi Transaksi: 599 days 12:18:31\n"
     ]
    }
   ],
   "source": [
    "print(f\"Tanggal Awal Transaksi: {orders['order_date'].min()}\")\n",
    "print(f\"Tanggal Akhir Transaksi: {orders['order_date'].max()}\")\n",
    "print(f\"Durasi Transaksi: {orders['order_date'].max() - orders['order_date'].min()}\")"
   ]
  },
  {
   "cell_type": "code",
   "execution_count": 50,
   "metadata": {},
   "outputs": [
    {
     "name": "stdout",
     "output_type": "stream",
     "text": [
      "Total Customers: 2500\n"
     ]
    }
   ],
   "source": [
    "print((f\"Total Customers: {customers['customer_id'].nunique()}\"))"
   ]
  },
  {
   "cell_type": "markdown",
   "metadata": {},
   "source": [
    "## Identify Sales Trend"
   ]
  },
  {
   "cell_type": "code",
   "execution_count": 54,
   "metadata": {},
   "outputs": [
    {
     "data": {
      "text/html": [
       "<div>\n",
       "<style scoped>\n",
       "    .dataframe tbody tr th:only-of-type {\n",
       "        vertical-align: middle;\n",
       "    }\n",
       "\n",
       "    .dataframe tbody tr th {\n",
       "        vertical-align: top;\n",
       "    }\n",
       "\n",
       "    .dataframe thead th {\n",
       "        text-align: right;\n",
       "    }\n",
       "</style>\n",
       "<table border=\"1\" class=\"dataframe\">\n",
       "  <thead>\n",
       "    <tr style=\"text-align: right;\">\n",
       "      <th></th>\n",
       "      <th>order_id</th>\n",
       "      <th>customer_id</th>\n",
       "      <th>order_date</th>\n",
       "      <th>promised_delivery_time</th>\n",
       "      <th>actual_delivery_time</th>\n",
       "      <th>delivery_status</th>\n",
       "      <th>order_total</th>\n",
       "      <th>payment_method</th>\n",
       "      <th>delivery_partner_id</th>\n",
       "      <th>store_id</th>\n",
       "      <th>order_date_time</th>\n",
       "    </tr>\n",
       "  </thead>\n",
       "  <tbody>\n",
       "    <tr>\n",
       "      <th>0</th>\n",
       "      <td>1961864118</td>\n",
       "      <td>30065862</td>\n",
       "      <td>2024-07-17 08:34:01</td>\n",
       "      <td>2024-07-17 08:52:01</td>\n",
       "      <td>2024-07-17 08:47:01</td>\n",
       "      <td>On Time</td>\n",
       "      <td>3197.07</td>\n",
       "      <td>Cash</td>\n",
       "      <td>63230</td>\n",
       "      <td>4771</td>\n",
       "      <td>2024-07-17</td>\n",
       "    </tr>\n",
       "    <tr>\n",
       "      <th>1</th>\n",
       "      <td>1549769649</td>\n",
       "      <td>9573071</td>\n",
       "      <td>2024-05-28 13:14:29</td>\n",
       "      <td>2024-05-28 13:25:29</td>\n",
       "      <td>2024-05-28 13:27:29</td>\n",
       "      <td>On Time</td>\n",
       "      <td>976.55</td>\n",
       "      <td>Cash</td>\n",
       "      <td>14983</td>\n",
       "      <td>7534</td>\n",
       "      <td>2024-05-28</td>\n",
       "    </tr>\n",
       "    <tr>\n",
       "      <th>2</th>\n",
       "      <td>9185164487</td>\n",
       "      <td>45477575</td>\n",
       "      <td>2024-09-23 13:07:12</td>\n",
       "      <td>2024-09-23 13:25:12</td>\n",
       "      <td>2024-09-23 13:29:12</td>\n",
       "      <td>On Time</td>\n",
       "      <td>839.05</td>\n",
       "      <td>UPI</td>\n",
       "      <td>39859</td>\n",
       "      <td>9886</td>\n",
       "      <td>2024-09-23</td>\n",
       "    </tr>\n",
       "    <tr>\n",
       "      <th>3</th>\n",
       "      <td>9644738826</td>\n",
       "      <td>88067569</td>\n",
       "      <td>2023-11-24 16:16:56</td>\n",
       "      <td>2023-11-24 16:34:56</td>\n",
       "      <td>2023-11-24 16:33:56</td>\n",
       "      <td>On Time</td>\n",
       "      <td>440.23</td>\n",
       "      <td>Card</td>\n",
       "      <td>61497</td>\n",
       "      <td>7917</td>\n",
       "      <td>2023-11-24</td>\n",
       "    </tr>\n",
       "    <tr>\n",
       "      <th>4</th>\n",
       "      <td>5427684290</td>\n",
       "      <td>83298567</td>\n",
       "      <td>2023-11-20 05:00:39</td>\n",
       "      <td>2023-11-20 05:17:39</td>\n",
       "      <td>2023-11-20 05:18:39</td>\n",
       "      <td>On Time</td>\n",
       "      <td>2526.68</td>\n",
       "      <td>Cash</td>\n",
       "      <td>84315</td>\n",
       "      <td>2741</td>\n",
       "      <td>2023-11-20</td>\n",
       "    </tr>\n",
       "  </tbody>\n",
       "</table>\n",
       "</div>"
      ],
      "text/plain": [
       "     order_id  customer_id          order_date promised_delivery_time  \\\n",
       "0  1961864118     30065862 2024-07-17 08:34:01    2024-07-17 08:52:01   \n",
       "1  1549769649      9573071 2024-05-28 13:14:29    2024-05-28 13:25:29   \n",
       "2  9185164487     45477575 2024-09-23 13:07:12    2024-09-23 13:25:12   \n",
       "3  9644738826     88067569 2023-11-24 16:16:56    2023-11-24 16:34:56   \n",
       "4  5427684290     83298567 2023-11-20 05:00:39    2023-11-20 05:17:39   \n",
       "\n",
       "  actual_delivery_time delivery_status  order_total payment_method  \\\n",
       "0  2024-07-17 08:47:01         On Time      3197.07           Cash   \n",
       "1  2024-05-28 13:27:29         On Time       976.55           Cash   \n",
       "2  2024-09-23 13:29:12         On Time       839.05            UPI   \n",
       "3  2023-11-24 16:33:56         On Time       440.23           Card   \n",
       "4  2023-11-20 05:18:39         On Time      2526.68           Cash   \n",
       "\n",
       "   delivery_partner_id  store_id order_date_time  \n",
       "0                63230      4771      2024-07-17  \n",
       "1                14983      7534      2024-05-28  \n",
       "2                39859      9886      2024-09-23  \n",
       "3                61497      7917      2023-11-24  \n",
       "4                84315      2741      2023-11-20  "
      ]
     },
     "execution_count": 54,
     "metadata": {},
     "output_type": "execute_result"
    }
   ],
   "source": [
    "orders.head()"
   ]
  },
  {
   "cell_type": "code",
   "execution_count": 59,
   "metadata": {},
   "outputs": [
    {
     "data": {
      "image/png": "[encoded data removed]",
      "text/plain": [
       "<Figure size 1200x600 with 1 Axes>"
      ]
     },
     "metadata": {},
     "output_type": "display_data"
    }
   ],
   "source": [
    "# Mengelompokan sales berdasarkan tanggal\n",
    "sales_trend = orders.groupby('order_date_time')['order_total'].sum().reset_index()\n",
    "\n",
    "plt.figure(figsize=(12, 6))\n",
    "sns.lineplot(data=sales_trend, x='order_date_time', y='order_total')\n",
    "plt.title('Sales Trend')\n",
    "plt.show()"
   ]
  },
  {
   "cell_type": "code",
   "execution_count": 71,
   "metadata": {},
   "outputs": [
    {
     "name": "stderr",
     "output_type": "stream",
     "text": [
      "C:\\Users\\prada\\AppData\\Local\\Temp\\ipykernel_27732\\2527174995.py:2: FutureWarning: 'M' is deprecated and will be removed in a future version, please use 'ME' instead.\n",
      "  monthly_sales = orders.groupby(pd.Grouper(key='order_date_time', freq='M'))['order_total'].sum().reset_index()\n"
     ]
    },
    {
     "data": {
      "text/plain": [
       "<Axes: xlabel='order_date_time'>"
      ]
     },
     "execution_count": 71,
     "metadata": {},
     "output_type": "execute_result"
    },
    {
     "data": {
      "image/png": "[encoded data removed]",
      "text/plain": [
       "<Figure size 1200x600 with 1 Axes>"
      ]
     },
     "metadata": {},
     "output_type": "display_data"
    }
   ],
   "source": [
    "orders['order_date_time'] = pd.to_datetime(orders['order_date'])\n",
    "monthly_sales = orders.groupby(pd.Grouper(key='order_date_time', freq='M'))['order_total'].sum().reset_index()\n",
    "\n",
    "monthly_sales.plot(x='order_date_time', y='order_total', kind='line', figsize=(12, 6))"
   ]
  },
  {
   "cell_type": "code",
   "execution_count": 72,
   "metadata": {},
   "outputs": [
    {
     "data": {
      "text/html": [
       "<div>\n",
       "<style scoped>\n",
       "    .dataframe tbody tr th:only-of-type {\n",
       "        vertical-align: middle;\n",
       "    }\n",
       "\n",
       "    .dataframe tbody tr th {\n",
       "        vertical-align: top;\n",
       "    }\n",
       "\n",
       "    .dataframe thead th {\n",
       "        text-align: right;\n",
       "    }\n",
       "</style>\n",
       "<table border=\"1\" class=\"dataframe\">\n",
       "  <thead>\n",
       "    <tr style=\"text-align: right;\">\n",
       "      <th></th>\n",
       "      <th>order_date_time</th>\n",
       "      <th>order_total</th>\n",
       "    </tr>\n",
       "  </thead>\n",
       "  <tbody>\n",
       "    <tr>\n",
       "      <th>0</th>\n",
       "      <td>2023-03-31</td>\n",
       "      <td>272878.96</td>\n",
       "    </tr>\n",
       "    <tr>\n",
       "      <th>1</th>\n",
       "      <td>2023-04-30</td>\n",
       "      <td>554344.77</td>\n",
       "    </tr>\n",
       "    <tr>\n",
       "      <th>2</th>\n",
       "      <td>2023-05-31</td>\n",
       "      <td>608213.54</td>\n",
       "    </tr>\n",
       "    <tr>\n",
       "      <th>3</th>\n",
       "      <td>2023-06-30</td>\n",
       "      <td>505227.66</td>\n",
       "    </tr>\n",
       "    <tr>\n",
       "      <th>4</th>\n",
       "      <td>2023-07-31</td>\n",
       "      <td>567639.91</td>\n",
       "    </tr>\n",
       "    <tr>\n",
       "      <th>5</th>\n",
       "      <td>2023-08-31</td>\n",
       "      <td>623472.35</td>\n",
       "    </tr>\n",
       "    <tr>\n",
       "      <th>6</th>\n",
       "      <td>2023-09-30</td>\n",
       "      <td>571117.81</td>\n",
       "    </tr>\n",
       "    <tr>\n",
       "      <th>7</th>\n",
       "      <td>2023-10-31</td>\n",
       "      <td>578369.83</td>\n",
       "    </tr>\n",
       "    <tr>\n",
       "      <th>8</th>\n",
       "      <td>2023-11-30</td>\n",
       "      <td>567783.74</td>\n",
       "    </tr>\n",
       "    <tr>\n",
       "      <th>9</th>\n",
       "      <td>2023-12-31</td>\n",
       "      <td>615709.03</td>\n",
       "    </tr>\n",
       "    <tr>\n",
       "      <th>10</th>\n",
       "      <td>2024-01-31</td>\n",
       "      <td>560423.56</td>\n",
       "    </tr>\n",
       "    <tr>\n",
       "      <th>11</th>\n",
       "      <td>2024-02-29</td>\n",
       "      <td>545090.11</td>\n",
       "    </tr>\n",
       "    <tr>\n",
       "      <th>12</th>\n",
       "      <td>2024-03-31</td>\n",
       "      <td>543181.85</td>\n",
       "    </tr>\n",
       "    <tr>\n",
       "      <th>13</th>\n",
       "      <td>2024-04-30</td>\n",
       "      <td>538754.75</td>\n",
       "    </tr>\n",
       "    <tr>\n",
       "      <th>14</th>\n",
       "      <td>2024-05-31</td>\n",
       "      <td>574163.61</td>\n",
       "    </tr>\n",
       "    <tr>\n",
       "      <th>15</th>\n",
       "      <td>2024-06-30</td>\n",
       "      <td>539074.85</td>\n",
       "    </tr>\n",
       "    <tr>\n",
       "      <th>16</th>\n",
       "      <td>2024-07-31</td>\n",
       "      <td>573111.98</td>\n",
       "    </tr>\n",
       "    <tr>\n",
       "      <th>17</th>\n",
       "      <td>2024-08-31</td>\n",
       "      <td>546194.57</td>\n",
       "    </tr>\n",
       "    <tr>\n",
       "      <th>18</th>\n",
       "      <td>2024-09-30</td>\n",
       "      <td>518695.03</td>\n",
       "    </tr>\n",
       "    <tr>\n",
       "      <th>19</th>\n",
       "      <td>2024-10-31</td>\n",
       "      <td>537702.94</td>\n",
       "    </tr>\n",
       "    <tr>\n",
       "      <th>20</th>\n",
       "      <td>2024-11-30</td>\n",
       "      <td>68157.65</td>\n",
       "    </tr>\n",
       "  </tbody>\n",
       "</table>\n",
       "</div>"
      ],
      "text/plain": [
       "   order_date_time  order_total\n",
       "0       2023-03-31    272878.96\n",
       "1       2023-04-30    554344.77\n",
       "2       2023-05-31    608213.54\n",
       "3       2023-06-30    505227.66\n",
       "4       2023-07-31    567639.91\n",
       "5       2023-08-31    623472.35\n",
       "6       2023-09-30    571117.81\n",
       "7       2023-10-31    578369.83\n",
       "8       2023-11-30    567783.74\n",
       "9       2023-12-31    615709.03\n",
       "10      2024-01-31    560423.56\n",
       "11      2024-02-29    545090.11\n",
       "12      2024-03-31    543181.85\n",
       "13      2024-04-30    538754.75\n",
       "14      2024-05-31    574163.61\n",
       "15      2024-06-30    539074.85\n",
       "16      2024-07-31    573111.98\n",
       "17      2024-08-31    546194.57\n",
       "18      2024-09-30    518695.03\n",
       "19      2024-10-31    537702.94\n",
       "20      2024-11-30     68157.65"
      ]
     },
     "execution_count": 72,
     "metadata": {},
     "output_type": "execute_result"
    }
   ],
   "source": [
    "monthly_sales"
   ]
  },
  {
   "cell_type": "code",
   "execution_count": 4,
   "metadata": {},
   "outputs": [
    {
     "data": {
      "text/html": [
       "<div>\n",
       "<style scoped>\n",
       "    .dataframe tbody tr th:only-of-type {\n",
       "        vertical-align: middle;\n",
       "    }\n",
       "\n",
       "    .dataframe tbody tr th {\n",
       "        vertical-align: top;\n",
       "    }\n",
       "\n",
       "    .dataframe thead th {\n",
       "        text-align: right;\n",
       "    }\n",
       "</style>\n",
       "<table border=\"1\" class=\"dataframe\">\n",
       "  <thead>\n",
       "    <tr style=\"text-align: right;\">\n",
       "      <th></th>\n",
       "      <th>feedback_id</th>\n",
       "      <th>order_id</th>\n",
       "      <th>customer_id</th>\n",
       "      <th>rating</th>\n",
       "      <th>feedback_text</th>\n",
       "      <th>feedback_category</th>\n",
       "      <th>sentiment</th>\n",
       "      <th>feedback_date</th>\n",
       "    </tr>\n",
       "  </thead>\n",
       "  <tbody>\n",
       "    <tr>\n",
       "      <th>0</th>\n",
       "      <td>2234710</td>\n",
       "      <td>1961864118</td>\n",
       "      <td>30065862</td>\n",
       "      <td>4</td>\n",
       "      <td>It was okay, nothing special.</td>\n",
       "      <td>Delivery</td>\n",
       "      <td>Neutral</td>\n",
       "      <td>2024-07-17</td>\n",
       "    </tr>\n",
       "    <tr>\n",
       "      <th>1</th>\n",
       "      <td>5450964</td>\n",
       "      <td>1549769649</td>\n",
       "      <td>9573071</td>\n",
       "      <td>3</td>\n",
       "      <td>The order was incorrect.</td>\n",
       "      <td>App Experience</td>\n",
       "      <td>Negative</td>\n",
       "      <td>2024-05-28</td>\n",
       "    </tr>\n",
       "    <tr>\n",
       "      <th>2</th>\n",
       "      <td>482108</td>\n",
       "      <td>9185164487</td>\n",
       "      <td>45477575</td>\n",
       "      <td>3</td>\n",
       "      <td>It was okay, nothing special.</td>\n",
       "      <td>App Experience</td>\n",
       "      <td>Neutral</td>\n",
       "      <td>2024-09-23</td>\n",
       "    </tr>\n",
       "    <tr>\n",
       "      <th>3</th>\n",
       "      <td>4823104</td>\n",
       "      <td>9644738826</td>\n",
       "      <td>88067569</td>\n",
       "      <td>4</td>\n",
       "      <td>The product met my expectations.</td>\n",
       "      <td>App Experience</td>\n",
       "      <td>Neutral</td>\n",
       "      <td>2023-11-24</td>\n",
       "    </tr>\n",
       "    <tr>\n",
       "      <th>4</th>\n",
       "      <td>3537464</td>\n",
       "      <td>5427684290</td>\n",
       "      <td>83298567</td>\n",
       "      <td>3</td>\n",
       "      <td>Product was damaged during delivery.</td>\n",
       "      <td>Delivery</td>\n",
       "      <td>Negative</td>\n",
       "      <td>2023-11-20</td>\n",
       "    </tr>\n",
       "  </tbody>\n",
       "</table>\n",
       "</div>"
      ],
      "text/plain": [
       "   feedback_id    order_id  customer_id  rating  \\\n",
       "0      2234710  1961864118     30065862       4   \n",
       "1      5450964  1549769649      9573071       3   \n",
       "2       482108  9185164487     45477575       3   \n",
       "3      4823104  9644738826     88067569       4   \n",
       "4      3537464  5427684290     83298567       3   \n",
       "\n",
       "                          feedback_text feedback_category sentiment  \\\n",
       "0         It was okay, nothing special.          Delivery   Neutral   \n",
       "1              The order was incorrect.    App Experience  Negative   \n",
       "2         It was okay, nothing special.    App Experience   Neutral   \n",
       "3      The product met my expectations.    App Experience   Neutral   \n",
       "4  Product was damaged during delivery.          Delivery  Negative   \n",
       "\n",
       "  feedback_date  \n",
       "0    2024-07-17  \n",
       "1    2024-05-28  \n",
       "2    2024-09-23  \n",
       "3    2023-11-24  \n",
       "4    2023-11-20  "
      ]
     },
     "execution_count": 4,
     "metadata": {},
     "output_type": "execute_result"
    }
   ],
   "source": [
    "customer_feedback.head()"
   ]
  },
  {
   "cell_type": "code",
   "execution_count": 23,
   "metadata": {},
   "outputs": [
    {
     "data": {
      "text/html": [
       "<div>\n",
       "<style scoped>\n",
       "    .dataframe tbody tr th:only-of-type {\n",
       "        vertical-align: middle;\n",
       "    }\n",
       "\n",
       "    .dataframe tbody tr th {\n",
       "        vertical-align: top;\n",
       "    }\n",
       "\n",
       "    .dataframe thead th {\n",
       "        text-align: right;\n",
       "    }\n",
       "</style>\n",
       "<table border=\"1\" class=\"dataframe\">\n",
       "  <thead>\n",
       "    <tr style=\"text-align: right;\">\n",
       "      <th></th>\n",
       "      <th>feedback_category</th>\n",
       "      <th>count</th>\n",
       "    </tr>\n",
       "  </thead>\n",
       "  <tbody>\n",
       "    <tr>\n",
       "      <th>2</th>\n",
       "      <td>Delivery</td>\n",
       "      <td>1271</td>\n",
       "    </tr>\n",
       "    <tr>\n",
       "      <th>1</th>\n",
       "      <td>Customer Service</td>\n",
       "      <td>1266</td>\n",
       "    </tr>\n",
       "    <tr>\n",
       "      <th>3</th>\n",
       "      <td>Product Quality</td>\n",
       "      <td>1250</td>\n",
       "    </tr>\n",
       "    <tr>\n",
       "      <th>0</th>\n",
       "      <td>App Experience</td>\n",
       "      <td>1213</td>\n",
       "    </tr>\n",
       "  </tbody>\n",
       "</table>\n",
       "</div>"
      ],
      "text/plain": [
       "  feedback_category  count\n",
       "2          Delivery   1271\n",
       "1  Customer Service   1266\n",
       "3   Product Quality   1250\n",
       "0    App Experience   1213"
      ]
     },
     "execution_count": 23,
     "metadata": {},
     "output_type": "execute_result"
    }
   ],
   "source": [
    "feedback_category = customer_feedback[['feedback_category', 'rating']].value_counts()\n",
    "average_rating = customer_feedback.groupby(['feedback_category'])['rating'].count().reset_index(name='count')\n",
    "average_rating.sort_values(by='count', ascending=False)"
   ]
  },
  {
   "cell_type": "code",
   "execution_count": 20,
   "metadata": {},
   "outputs": [
    {
     "data": {
      "text/html": [
       "<div>\n",
       "<style scoped>\n",
       "    .dataframe tbody tr th:only-of-type {\n",
       "        vertical-align: middle;\n",
       "    }\n",
       "\n",
       "    .dataframe tbody tr th {\n",
       "        vertical-align: top;\n",
       "    }\n",
       "\n",
       "    .dataframe thead th {\n",
       "        text-align: right;\n",
       "    }\n",
       "</style>\n",
       "<table border=\"1\" class=\"dataframe\">\n",
       "  <thead>\n",
       "    <tr style=\"text-align: right;\">\n",
       "      <th></th>\n",
       "      <th>feedback_category</th>\n",
       "      <th>count</th>\n",
       "    </tr>\n",
       "  </thead>\n",
       "  <tbody>\n",
       "    <tr>\n",
       "      <th>0</th>\n",
       "      <td>App Experience</td>\n",
       "      <td>3.361913</td>\n",
       "    </tr>\n",
       "    <tr>\n",
       "      <th>1</th>\n",
       "      <td>Customer Service</td>\n",
       "      <td>3.368088</td>\n",
       "    </tr>\n",
       "    <tr>\n",
       "      <th>2</th>\n",
       "      <td>Delivery</td>\n",
       "      <td>3.332809</td>\n",
       "    </tr>\n",
       "    <tr>\n",
       "      <th>3</th>\n",
       "      <td>Product Quality</td>\n",
       "      <td>3.315200</td>\n",
       "    </tr>\n",
       "  </tbody>\n",
       "</table>\n",
       "</div>"
      ],
      "text/plain": [
       "  feedback_category     count\n",
       "0    App Experience  3.361913\n",
       "1  Customer Service  3.368088\n",
       "2          Delivery  3.332809\n",
       "3   Product Quality  3.315200"
      ]
     },
     "execution_count": 20,
     "metadata": {},
     "output_type": "execute_result"
    }
   ],
   "source": [
    "average_rating = customer_feedback.groupby(['feedback_category'])['rating'].mean().reset_index(name='count')\n",
    "average_rating"
   ]
  },
  {
   "cell_type": "code",
   "execution_count": 21,
   "metadata": {},
   "outputs": [
    {
     "name": "stdout",
     "output_type": "stream",
     "text": [
      "Neutral: 1738\n",
      "Negative: 1642\n",
      "Positive: 1620\n"
     ]
    }
   ],
   "source": [
    "sentiment = customer_feedback['sentiment'].value_counts()\n",
    "for sentiment, count in sentiment.items():\n",
    "    print(f'{sentiment}: {count}')"
   ]
  },
  {
   "cell_type": "code",
   "execution_count": 29,
   "metadata": {},
   "outputs": [
    {
     "data": {
      "text/html": [
       "<div>\n",
       "<style scoped>\n",
       "    .dataframe tbody tr th:only-of-type {\n",
       "        vertical-align: middle;\n",
       "    }\n",
       "\n",
       "    .dataframe tbody tr th {\n",
       "        vertical-align: top;\n",
       "    }\n",
       "\n",
       "    .dataframe thead th {\n",
       "        text-align: right;\n",
       "    }\n",
       "</style>\n",
       "<table border=\"1\" class=\"dataframe\">\n",
       "  <thead>\n",
       "    <tr style=\"text-align: right;\">\n",
       "      <th></th>\n",
       "      <th>feedback_id</th>\n",
       "      <th>order_id</th>\n",
       "      <th>customer_id</th>\n",
       "      <th>rating</th>\n",
       "      <th>feedback_text</th>\n",
       "      <th>feedback_category</th>\n",
       "      <th>sentiment</th>\n",
       "      <th>feedback_date</th>\n",
       "    </tr>\n",
       "  </thead>\n",
       "  <tbody>\n",
       "    <tr>\n",
       "      <th>20</th>\n",
       "      <td>3769939</td>\n",
       "      <td>6625178717</td>\n",
       "      <td>62068277</td>\n",
       "      <td>2</td>\n",
       "      <td>Items were missing from my order.</td>\n",
       "      <td>Product Quality</td>\n",
       "      <td>Negative</td>\n",
       "      <td>2023-07-01</td>\n",
       "    </tr>\n",
       "    <tr>\n",
       "      <th>21</th>\n",
       "      <td>9592296</td>\n",
       "      <td>7169557514</td>\n",
       "      <td>84824280</td>\n",
       "      <td>2</td>\n",
       "      <td>Customer service was not helpful.</td>\n",
       "      <td>Product Quality</td>\n",
       "      <td>Negative</td>\n",
       "      <td>2023-03-21</td>\n",
       "    </tr>\n",
       "    <tr>\n",
       "      <th>27</th>\n",
       "      <td>1055307</td>\n",
       "      <td>964822979</td>\n",
       "      <td>88520326</td>\n",
       "      <td>3</td>\n",
       "      <td>Delivery was late and I was unhappy.</td>\n",
       "      <td>Product Quality</td>\n",
       "      <td>Negative</td>\n",
       "      <td>2024-07-13</td>\n",
       "    </tr>\n",
       "    <tr>\n",
       "      <th>29</th>\n",
       "      <td>7898352</td>\n",
       "      <td>9347571484</td>\n",
       "      <td>29562072</td>\n",
       "      <td>3</td>\n",
       "      <td>I had a bad experience.</td>\n",
       "      <td>Product Quality</td>\n",
       "      <td>Negative</td>\n",
       "      <td>2024-11-02</td>\n",
       "    </tr>\n",
       "    <tr>\n",
       "      <th>40</th>\n",
       "      <td>7512781</td>\n",
       "      <td>6771166303</td>\n",
       "      <td>87718744</td>\n",
       "      <td>3</td>\n",
       "      <td>The order was incorrect.</td>\n",
       "      <td>Product Quality</td>\n",
       "      <td>Negative</td>\n",
       "      <td>2023-07-24</td>\n",
       "    </tr>\n",
       "    <tr>\n",
       "      <th>...</th>\n",
       "      <td>...</td>\n",
       "      <td>...</td>\n",
       "      <td>...</td>\n",
       "      <td>...</td>\n",
       "      <td>...</td>\n",
       "      <td>...</td>\n",
       "      <td>...</td>\n",
       "      <td>...</td>\n",
       "    </tr>\n",
       "    <tr>\n",
       "      <th>4981</th>\n",
       "      <td>4436657</td>\n",
       "      <td>8732072897</td>\n",
       "      <td>12077371</td>\n",
       "      <td>2</td>\n",
       "      <td>Taste was not as expected.</td>\n",
       "      <td>Product Quality</td>\n",
       "      <td>Negative</td>\n",
       "      <td>2023-06-14</td>\n",
       "    </tr>\n",
       "    <tr>\n",
       "      <th>4984</th>\n",
       "      <td>1504694</td>\n",
       "      <td>2520527893</td>\n",
       "      <td>51476157</td>\n",
       "      <td>2</td>\n",
       "      <td>The order was incorrect.</td>\n",
       "      <td>Product Quality</td>\n",
       "      <td>Negative</td>\n",
       "      <td>2024-10-02</td>\n",
       "    </tr>\n",
       "    <tr>\n",
       "      <th>4987</th>\n",
       "      <td>5321532</td>\n",
       "      <td>5824924668</td>\n",
       "      <td>49881540</td>\n",
       "      <td>1</td>\n",
       "      <td>The order was incorrect.</td>\n",
       "      <td>Product Quality</td>\n",
       "      <td>Negative</td>\n",
       "      <td>2023-11-19</td>\n",
       "    </tr>\n",
       "    <tr>\n",
       "      <th>4991</th>\n",
       "      <td>5963618</td>\n",
       "      <td>4859489972</td>\n",
       "      <td>12305040</td>\n",
       "      <td>1</td>\n",
       "      <td>Taste was not as expected.</td>\n",
       "      <td>Product Quality</td>\n",
       "      <td>Negative</td>\n",
       "      <td>2023-07-15</td>\n",
       "    </tr>\n",
       "    <tr>\n",
       "      <th>4995</th>\n",
       "      <td>9024060</td>\n",
       "      <td>1669690997</td>\n",
       "      <td>62600289</td>\n",
       "      <td>3</td>\n",
       "      <td>Taste was not as expected.</td>\n",
       "      <td>Product Quality</td>\n",
       "      <td>Negative</td>\n",
       "      <td>2023-12-25</td>\n",
       "    </tr>\n",
       "  </tbody>\n",
       "</table>\n",
       "<p>432 rows × 8 columns</p>\n",
       "</div>"
      ],
      "text/plain": [
       "      feedback_id    order_id  customer_id  rating  \\\n",
       "20        3769939  6625178717     62068277       2   \n",
       "21        9592296  7169557514     84824280       2   \n",
       "27        1055307   964822979     88520326       3   \n",
       "29        7898352  9347571484     29562072       3   \n",
       "40        7512781  6771166303     87718744       3   \n",
       "...           ...         ...          ...     ...   \n",
       "4981      4436657  8732072897     12077371       2   \n",
       "4984      1504694  2520527893     51476157       2   \n",
       "4987      5321532  5824924668     49881540       1   \n",
       "4991      5963618  4859489972     12305040       1   \n",
       "4995      9024060  1669690997     62600289       3   \n",
       "\n",
       "                             feedback_text feedback_category sentiment  \\\n",
       "20       Items were missing from my order.   Product Quality  Negative   \n",
       "21       Customer service was not helpful.   Product Quality  Negative   \n",
       "27    Delivery was late and I was unhappy.   Product Quality  Negative   \n",
       "29                 I had a bad experience.   Product Quality  Negative   \n",
       "40                The order was incorrect.   Product Quality  Negative   \n",
       "...                                    ...               ...       ...   \n",
       "4981            Taste was not as expected.   Product Quality  Negative   \n",
       "4984              The order was incorrect.   Product Quality  Negative   \n",
       "4987              The order was incorrect.   Product Quality  Negative   \n",
       "4991            Taste was not as expected.   Product Quality  Negative   \n",
       "4995            Taste was not as expected.   Product Quality  Negative   \n",
       "\n",
       "     feedback_date  \n",
       "20      2023-07-01  \n",
       "21      2023-03-21  \n",
       "27      2024-07-13  \n",
       "29      2024-11-02  \n",
       "40      2023-07-24  \n",
       "...            ...  \n",
       "4981    2023-06-14  \n",
       "4984    2024-10-02  \n",
       "4987    2023-11-19  \n",
       "4991    2023-07-15  \n",
       "4995    2023-12-25  \n",
       "\n",
       "[432 rows x 8 columns]"
      ]
     },
     "execution_count": 29,
     "metadata": {},
     "output_type": "execute_result"
    }
   ],
   "source": [
    "products_feedback = customer_feedback[customer_feedback['feedback_category'] == 'Product Quality']\n",
    "products_feedback_negative = products_feedback[products_feedback['sentiment'] == 'Negative']\n",
    "products_feedback_negative\n"
   ]
  },
  {
   "cell_type": "code",
   "execution_count": 33,
   "metadata": {},
   "outputs": [
    {
     "data": {
      "image/png": "[encoded data removed]",
      "text/plain": [
       "<Figure size 1000x1000 with 1 Axes>"
      ]
     },
     "metadata": {},
     "output_type": "display_data"
    }
   ],
   "source": [
    "wordcloud = WordCloud(\n",
    "    max_font_size=100,\n",
    "    max_words=100,\n",
    "    background_color=\"black\",\n",
    "    scale=10,\n",
    "    width=800,\n",
    "    height=800\n",
    ").generate(products_feedback_negative['feedback_text'].to_string())\n",
    "\n",
    "# Pengaturan properti gambar\n",
    "plt.figure(figsize=(10, 10))\n",
    "plt.imshow(wordcloud, interpolation=\"bilinear\")\n",
    "plt.axis(\"off\")\n",
    "plt.show()"
   ]
  }
 ],
 "metadata": {
  "kernelspec": {
   "display_name": "Python 3",
   "language": "python",
   "name": "python3"
  },
  "language_info": {
   "codemirror_mode": {
    "name": "ipython",
    "version": 3
   },
   "file_extension": ".py",
   "mimetype": "text/x-python",
   "name": "python",
   "nbconvert_exporter": "python",
   "pygments_lexer": "ipython3",
   "version": "3.12.4"
  }
 },
 "nbformat": 4,
 "nbformat_minor": 2
}
